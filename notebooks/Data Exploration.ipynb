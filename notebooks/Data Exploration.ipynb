{
 "cells": [
  {
   "cell_type": "code",
   "execution_count": 1,
   "metadata": {
    "ExecuteTime": {
     "end_time": "2021-06-12T10:02:26.899667Z",
     "start_time": "2021-06-12T10:02:24.878868Z"
    }
   },
   "outputs": [],
   "source": [
    "import pandas as pd\n",
    "import numpy as np\n",
    "import seaborn as sns\n",
    "import matplotlib.pyplot as plt\n",
    "import os\n",
    "import sys\n",
    "import sqlite3\n",
    "%matplotlib inline\n",
    "%load_ext autoreload\n",
    "%autoreload 2"
   ]
  },
  {
   "cell_type": "code",
   "execution_count": 2,
   "metadata": {
    "ExecuteTime": {
     "end_time": "2021-06-12T10:02:27.357986Z",
     "start_time": "2021-06-12T10:02:26.901469Z"
    }
   },
   "outputs": [],
   "source": [
    "cwd = os.getcwd()\n",
    "PROJECT_PATH = cwd.split(\"quince_assignment\")[0] + 'quince_assignment'\n",
    "sys.path.insert(0, PROJECT_PATH)"
   ]
  },
  {
   "cell_type": "code",
   "execution_count": 3,
   "metadata": {
    "ExecuteTime": {
     "end_time": "2021-06-12T10:02:59.086796Z",
     "start_time": "2021-06-12T10:02:27.360977Z"
    }
   },
   "outputs": [],
   "source": [
    "event_data = pd.read_csv(\n",
    "    f\"{PROJECT_PATH}/src/data/event_202012182112.csv.gz\", compression=\"gzip\")"
   ]
  },
  {
   "cell_type": "code",
   "execution_count": 4,
   "metadata": {
    "ExecuteTime": {
     "end_time": "2021-06-12T10:03:03.431520Z",
     "start_time": "2021-06-12T10:02:59.088723Z"
    }
   },
   "outputs": [],
   "source": [
    "event_data['event_time'] = pd.to_datetime(event_data['event_time'],\n",
    "                                          format=\"%Y-%m-%d %H:%M:%S\")"
   ]
  },
  {
   "cell_type": "markdown",
   "metadata": {},
   "source": [
    "## Overall stats"
   ]
  },
  {
   "cell_type": "code",
   "execution_count": 5,
   "metadata": {
    "ExecuteTime": {
     "end_time": "2021-06-12T10:03:31.874794Z",
     "start_time": "2021-06-12T10:03:31.260888Z"
    }
   },
   "outputs": [
    {
     "name": "stdout",
     "output_type": "stream",
     "text": [
      "Event data has 3638376 rows and 19 columns\n"
     ]
    }
   ],
   "source": [
    "print(f\"Event data has {event_data.shape[0]} rows and {event_data.shape[1]} columns\")"
   ]
  },
  {
   "cell_type": "code",
   "execution_count": 6,
   "metadata": {
    "ExecuteTime": {
     "end_time": "2021-06-12T10:03:32.679642Z",
     "start_time": "2021-06-12T10:03:31.877790Z"
    }
   },
   "outputs": [
    {
     "name": "stdout",
     "output_type": "stream",
     "text": [
      "Event data is from 15Sep2020 to 01Dec2020\n"
     ]
    }
   ],
   "source": [
    "min_date = event_data['event_time'].min().strftime('%d%b%Y')\n",
    "max_date = event_data['event_time'].max().strftime('%d%b%Y')\n",
    "print(f\"Event data is from {min_date} to {max_date}\")"
   ]
  },
  {
   "cell_type": "markdown",
   "metadata": {},
   "source": [
    "## Column wise analysis"
   ]
  },
  {
   "cell_type": "code",
   "execution_count": 7,
   "metadata": {
    "ExecuteTime": {
     "end_time": "2021-06-12T10:04:07.877178Z",
     "start_time": "2021-06-12T10:03:45.569370Z"
    }
   },
   "outputs": [],
   "source": [
    "unique_items = event_data.nunique().to_dict()"
   ]
  },
  {
   "cell_type": "code",
   "execution_count": 17,
   "metadata": {
    "ExecuteTime": {
     "end_time": "2021-06-12T10:07:45.590675Z",
     "start_time": "2021-06-12T10:07:45.200226Z"
    }
   },
   "outputs": [],
   "source": [
    "event_type_order = {'checkout_page_view_contact_information': '4a', 'email_subscription_view': '6', \n",
    "                    'checkout_page_view_payment_method': '4c', 'checkout_page_view_stock_problems': '4e', \n",
    "                    'checkout_page_view_review': '4f', 'checkout_page_view_processing': '4d', 'add_to_cart': '3', \n",
    "                    'collection_view': '1', 'checkout_page_view_forward': '4g', 'product_view': '2', \n",
    "                    'checkout_page_view_shipping_method': '4b', 'order_complete': '5', np.NaN: '7'\n",
    "                   }"
   ]
  },
  {
   "cell_type": "code",
   "execution_count": 18,
   "metadata": {
    "ExecuteTime": {
     "end_time": "2021-06-12T10:07:48.520968Z",
     "start_time": "2021-06-12T10:07:46.269903Z"
    }
   },
   "outputs": [],
   "source": [
    "event_data = event_data.assign(event_id=event_data['event_type']) \n",
    "event_data.replace({'event_id': event_type_order}, inplace=True)"
   ]
  },
  {
   "cell_type": "code",
   "execution_count": 11,
   "metadata": {
    "ExecuteTime": {
     "end_time": "2021-06-12T10:04:42.750296Z",
     "start_time": "2021-06-12T10:04:40.494343Z"
    }
   },
   "outputs": [
    {
     "name": "stdout",
     "output_type": "stream",
     "text": [
      "==================================================\n",
      "Analysis for event_id\n",
      "event_id has 3638376 unique items - 100.0%\n",
      "Printing sample values\n",
      "['1', '2', '2', '1', '1']\n",
      "==================================================\n",
      "==================================================\n",
      "Analysis for event_type\n",
      "event_type has 12 unique items - 0.0%\n",
      "Printing the frequency of categories\n",
      "product_view                              0.375208\n",
      "collection_view                           0.737596\n",
      "email_subscription_view                   0.888763\n",
      "add_to_cart                               0.942671\n",
      "checkout_page_view_contact_information    0.963153\n",
      "checkout_page_view_processing             0.972526\n",
      "order_complete                            0.981645\n",
      "checkout_page_view_payment_method         0.990464\n",
      "checkout_page_view_shipping_method        0.998892\n",
      "checkout_page_view_stock_problems         0.999749\n",
      "checkout_page_view_forward                0.999947\n",
      "checkout_page_view_review                 1.000000\n",
      "Name: event_type, dtype: float64\n",
      "==================================================\n",
      "==================================================\n",
      "Analysis for session_id\n",
      "session_id has 817575 unique items - 22.47%\n",
      "Printing sample values\n",
      "['_3yqjlmvar', nan, '_khkq9os37', '_hze69q9et', '_g263lpdmo']\n",
      "==================================================\n",
      "==================================================\n",
      "Analysis for event_time\n",
      "event_time has 2593479 unique items - 71.28%\n",
      "Printing sample values\n",
      "[Timestamp('2020-09-15 00:00:00'), Timestamp('2020-09-15 00:00:00'), Timestamp('2020-09-15 00:00:00'), Timestamp('2020-09-15 00:00:03'), Timestamp('2020-09-15 00:00:06')]\n",
      "==================================================\n",
      "==================================================\n",
      "Analysis for lb_user_id\n",
      "lb_user_id has 588808 unique items - 16.18%\n",
      "Printing sample values\n",
      "['_gubus5rdy', nan, '_um8huipsf', '_ol42z2v2t', '_pbkmff3ji']\n",
      "==================================================\n",
      "==================================================\n",
      "Analysis for email\n",
      "email has 62877 unique items - 1.73%\n",
      "Printing sample values\n",
      "[nan, nan, nan, 'dd71fec29676f26fb0b5ceace4f73879', '305696f95c4ac02cd70379c2fba1babf']\n",
      "==================================================\n",
      "==================================================\n",
      "Analysis for product_id\n",
      "product_id has 266 unique items - 0.01%\n",
      "Printing sample values\n",
      "[nan, nan, 2070045294703.0, nan, nan]\n",
      "==================================================\n",
      "==================================================\n",
      "Analysis for product_category\n",
      "product_category has 5 unique items - 0.0%\n",
      "Printing the frequency of categories\n",
      "Apparel        0.772786\n",
      "Home           0.884281\n",
      "Accessories    0.985684\n",
      "Jewelry        0.998803\n",
      "Others         1.000000\n",
      "Name: product_category, dtype: float64\n",
      "==================================================\n",
      "==================================================\n",
      "Analysis for product_type\n",
      "product_type has 28 unique items - 0.0%\n",
      "Printing sample values\n",
      "[nan, nan, 'Accessories', nan, nan]\n",
      "==================================================\n",
      "==================================================\n",
      "Analysis for order_id\n",
      "order_id has 32430 unique items - 0.89%\n",
      "Printing sample values\n",
      "[nan, nan, nan, nan, nan]\n",
      "==================================================\n",
      "==================================================\n",
      "Analysis for collection_name\n",
      "collection_name has 176 unique items - 0.0%\n",
      "Printing sample values\n",
      "['Best Sellers', nan, nan, 'Silk', 'Tees & Tanks']\n",
      "==================================================\n",
      "==================================================\n",
      "Analysis for ip\n",
      "ip has 419149 unique items - 11.52%\n",
      "Printing sample values\n",
      "['66.65.111.174', '66.249.79.246', '66.249.79.228', '107.77.214.106', '69.115.146.167']\n",
      "==================================================\n",
      "==================================================\n",
      "Analysis for device\n",
      "device has 3 unique items - 0.0%\n",
      "Printing the frequency of categories\n",
      "mobile     0.685951\n",
      "desktop    0.970062\n",
      "tablet     1.000000\n",
      "Name: device, dtype: float64\n",
      "==================================================\n",
      "==================================================\n",
      "Analysis for url\n",
      "url has 830709 unique items - 22.83%\n",
      "Printing sample values\n",
      "['https://www.onequince.com/women/best-sellers', 'https://54.183.41.207/products/100-organic-linen-tank?_fd=0', 'https://www.onequince.com/women/leather/tall-italian-leather-tote?variant=31196213837935&color=cognac', 'https://www.onequince.com/collections/silk', 'https://www.onequince.com/women/tees']\n",
      "==================================================\n",
      "==================================================\n",
      "Analysis for device_category\n",
      "device_category has 10 unique items - 0.0%\n",
      "Printing the frequency of categories\n",
      "iPhone           0.575498\n",
      "macOS            0.756472\n",
      "Android          0.864064\n",
      "Windows          0.947328\n",
      "iPad             0.989182\n",
      "Chrome OS        0.993772\n",
      "Generic Linux    0.997955\n",
      "Unknown          0.999941\n",
      "iPod             0.999982\n",
      "BlackBerry       1.000000\n",
      "Name: device_category, dtype: float64\n",
      "==================================================\n",
      "==================================================\n",
      "Analysis for user_agent\n",
      "user_agent has 61563 unique items - 1.69%\n",
      "Printing sample values\n",
      "['Mozilla/5.0 (iPhone; CPU iPhone OS 13_7 like Mac OS X) AppleWebKit/605.1.15 (KHTML, like Gecko) Mobile/15E148 Instagram 158.1.0.29.120 (iPhone9,2; iOS 13_7; en_US; en-US; scale=2.88; 1080x1920; 244229785)', 'Mozilla/5.0 (Linux; Android 6.0.1; Nexus 5X Build/MMB29P) AppleWebKit/537.36 (KHTML, like Gecko) Chrome/85.0.4183.105 Mobile Safari/537.36 (compatible; Googlebot/2.1; +http://www.google.com/bot.html)', 'Mozilla/5.0 AppleWebKit/537.36 (KHTML, like Gecko; compatible; Googlebot/2.1; +http://www.google.com/bot.html) Chrome/85.0.4183.105 Safari/537.36', 'Mozilla/5.0 (iPhone; CPU iPhone OS 13_7 like Mac OS X) AppleWebKit/605.1.15 (KHTML, like Gecko) Version/13.1.2 Mobile/15E148 Safari/604.1', 'Mozilla/5.0 (iPhone; CPU iPhone OS 13_6_1 like Mac OS X) AppleWebKit/605.1.15 (KHTML, like Gecko) Version/13.1.2 Mobile/15E148 Safari/604.1']\n",
      "==================================================\n",
      "==================================================\n",
      "Analysis for user_gender\n",
      "user_gender has 2 unique items - 0.0%\n",
      "Printing the frequency of categories\n",
      "Female    0.91269\n",
      "Male      1.00000\n",
      "Name: user_gender, dtype: float64\n",
      "==================================================\n",
      "==================================================\n",
      "Analysis for user_state\n",
      "user_state has 356 unique items - 0.01%\n",
      "Printing sample values\n",
      "[nan, nan, nan, 'California', 'New York']\n",
      "==================================================\n",
      "==================================================\n",
      "Analysis for traffic_source\n",
      "traffic_source has 0 unique items - 0.0%\n",
      "Printing the frequency of categories\n",
      "Series([], Name: traffic_source, dtype: float64)\n",
      "==================================================\n"
     ]
    }
   ],
   "source": [
    "for col in event_data.columns:\n",
    "    print(\"=\"*50)\n",
    "    print(f\"Analysis for {col}\")\n",
    "    print(f\"{col} has {unique_items[col]} unique items - {np.round(unique_items[col]/event_data.shape[0]*100, 2)}%\")\n",
    "    if unique_items[col] <= 20:\n",
    "        print(\"Printing the frequency of categories\")\n",
    "        print(event_data[col].value_counts(normalize=True).cumsum())\n",
    "    else:\n",
    "        print(\"Printing sample values\")\n",
    "        print(list(event_data[col][0:5]))\n",
    "    print(\"=\"*50)"
   ]
  },
  {
   "cell_type": "markdown",
   "metadata": {},
   "source": [
    "## Session level data"
   ]
  },
  {
   "cell_type": "code",
   "execution_count": 25,
   "metadata": {
    "ExecuteTime": {
     "end_time": "2021-06-12T16:50:47.450548Z",
     "start_time": "2021-06-12T16:50:38.150653Z"
    }
   },
   "outputs": [],
   "source": [
    "aggregations = {'event_time': ['max', 'min'],\n",
    "                'event_id': [lambda x: '->'.join(x), 'count']}\n",
    "session_data = event_data.groupby(['session_id', 'lb_user_id', 'device',\n",
    "                                   'device_category', 'user_gender', 'user_state']).agg(aggregations)"
   ]
  },
  {
   "cell_type": "code",
   "execution_count": 33,
   "metadata": {
    "ExecuteTime": {
     "end_time": "2021-06-12T16:57:28.694850Z",
     "start_time": "2021-06-12T16:57:28.251895Z"
    }
   },
   "outputs": [],
   "source": [
    "session_data.reset_index(inplace=True)\n",
    "session_data.columns = ['session_id', 'lb_user_id', 'device', 'device_category', 'user_gender',\n",
    "                        'user_state', 'session_end_time', 'session_start_time', 'event_sequence', 'no_of_events']"
   ]
  },
  {
   "cell_type": "code",
   "execution_count": 82,
   "metadata": {
    "ExecuteTime": {
     "end_time": "2021-06-12T17:48:07.314703Z",
     "start_time": "2021-06-12T17:48:01.650500Z"
    }
   },
   "outputs": [],
   "source": [
    "session_data = session_data.assign(session_duration_sec=(\n",
    "    session_data['session_end_time']-session_data['session_start_time']).dt.total_seconds())\n",
    "session_data = session_data.assign(made_purchase=np.where(session_data['event_sequence'].str.contains(\"6\"), \"Yes\", \"No\"))\n",
    "session_data = session_data.assign(visit_count=session_data.groupby('lb_user_id')['session_end_time'].rank(method='min'))\n",
    "session_data = session_data.assign(bought_on_first_visit=np.where((session_data['visit_count']==1)&(session_data['made_purchase']=='Yes'), 'Yes', 'No'))"
   ]
  },
  {
   "cell_type": "code",
   "execution_count": 84,
   "metadata": {
    "ExecuteTime": {
     "end_time": "2021-06-12T17:49:57.317317Z",
     "start_time": "2021-06-12T17:49:54.079632Z"
    }
   },
   "outputs": [
    {
     "data": {
      "text/plain": [
       "Yes    116872\n",
       "No      30475\n",
       "Name: bought_on_first_visit, dtype: int64"
      ]
     },
     "execution_count": 84,
     "metadata": {},
     "output_type": "execute_result"
    }
   ],
   "source": [
    "session_data[session_data['visit_count']==1]['bought_on_first_visit'].value_counts()"
   ]
  },
  {
   "cell_type": "code",
   "execution_count": 35,
   "metadata": {
    "ExecuteTime": {
     "end_time": "2021-06-12T16:58:17.920614Z",
     "start_time": "2021-06-12T16:58:17.549697Z"
    }
   },
   "outputs": [
    {
     "name": "stdout",
     "output_type": "stream",
     "text": [
      "Number of sessions happened is 256827\n"
     ]
    }
   ],
   "source": [
    "print(f\"Number of sessions happened is {session_data.shape[0]}\")"
   ]
  },
  {
   "cell_type": "code",
   "execution_count": 39,
   "metadata": {
    "ExecuteTime": {
     "end_time": "2021-06-12T16:59:36.371919Z",
     "start_time": "2021-06-12T16:59:35.983851Z"
    }
   },
   "outputs": [
    {
     "data": {
      "text/plain": [
       "iPhone           0.569333\n",
       "macOS            0.767789\n",
       "Android          0.865622\n",
       "Windows          0.950628\n",
       "iPad             0.994599\n",
       "Chrome OS        0.999537\n",
       "Generic Linux    0.999961\n",
       "iPod             0.999981\n",
       "BlackBerry       0.999992\n",
       "Unknown          1.000000\n",
       "Name: device_category, dtype: float64"
      ]
     },
     "execution_count": 39,
     "metadata": {},
     "output_type": "execute_result"
    }
   ],
   "source": [
    "session_data['device_category'].value_counts(normalize=True).cumsum()"
   ]
  },
  {
   "cell_type": "code",
   "execution_count": 40,
   "metadata": {
    "ExecuteTime": {
     "end_time": "2021-06-12T16:59:41.579588Z",
     "start_time": "2021-06-12T16:59:41.174543Z"
    }
   },
   "outputs": [
    {
     "data": {
      "text/plain": [
       "Female    0.912587\n",
       "Male      1.000000\n",
       "Name: user_gender, dtype: float64"
      ]
     },
     "execution_count": 40,
     "metadata": {},
     "output_type": "execute_result"
    }
   ],
   "source": [
    "session_data['user_gender'].value_counts(normalize=True).cumsum()"
   ]
  },
  {
   "cell_type": "code",
   "execution_count": 71,
   "metadata": {
    "ExecuteTime": {
     "end_time": "2021-06-12T17:20:19.998858Z",
     "start_time": "2021-06-12T17:20:18.806100Z"
    }
   },
   "outputs": [
    {
     "data": {
      "text/plain": [
       "1      0.227402\n",
       "2      0.448391\n",
       "3      0.558785\n",
       "4      0.628914\n",
       "5      0.680392\n",
       "6      0.720734\n",
       "7      0.752417\n",
       "8      0.781339\n",
       "9      0.807372\n",
       "10     0.830189\n",
       "11     0.849661\n",
       "12     0.865886\n",
       "13     0.879834\n",
       "14     0.892028\n",
       "15     0.902802\n",
       "16     0.912155\n",
       "17     0.920300\n",
       "18     0.927994\n",
       "19     0.934851\n",
       "20     0.940894\n",
       "21     0.946240\n",
       "22     0.950955\n",
       "23     0.955196\n",
       "24     0.959019\n",
       "25     0.962531\n",
       "26     0.965747\n",
       "28     0.968446\n",
       "27     0.971117\n",
       "29     0.973605\n",
       "30     0.975700\n",
       "         ...   \n",
       "123    0.999883\n",
       "120    0.999891\n",
       "146    0.999895\n",
       "220    0.999899\n",
       "125    0.999903\n",
       "130    0.999907\n",
       "122    0.999910\n",
       "247    0.999914\n",
       "132    0.999918\n",
       "117    0.999922\n",
       "116    0.999926\n",
       "115    0.999930\n",
       "112    0.999934\n",
       "223    0.999938\n",
       "95     0.999942\n",
       "337    0.999945\n",
       "148    0.999949\n",
       "200    0.999953\n",
       "319    0.999957\n",
       "126    0.999961\n",
       "138    0.999965\n",
       "179    0.999969\n",
       "177    0.999973\n",
       "172    0.999977\n",
       "171    0.999981\n",
       "168    0.999984\n",
       "162    0.999988\n",
       "153    0.999992\n",
       "143    0.999996\n",
       "182    1.000000\n",
       "Name: no_of_events, Length: 156, dtype: float64"
      ]
     },
     "execution_count": 71,
     "metadata": {},
     "output_type": "execute_result"
    }
   ],
   "source": [
    "session_data['no_of_events'].value_counts(normalize=True).cumsum()"
   ]
  },
  {
   "cell_type": "code",
   "execution_count": 64,
   "metadata": {
    "ExecuteTime": {
     "end_time": "2021-06-12T17:15:42.809910Z",
     "start_time": "2021-06-12T17:15:41.244060Z"
    }
   },
   "outputs": [
    {
     "data": {
      "text/html": [
       "<div>\n",
       "<style scoped>\n",
       "    .dataframe tbody tr th:only-of-type {\n",
       "        vertical-align: middle;\n",
       "    }\n",
       "\n",
       "    .dataframe tbody tr th {\n",
       "        vertical-align: top;\n",
       "    }\n",
       "\n",
       "    .dataframe thead th {\n",
       "        text-align: right;\n",
       "    }\n",
       "</style>\n",
       "<table border=\"1\" class=\"dataframe\">\n",
       "  <thead>\n",
       "    <tr style=\"text-align: right;\">\n",
       "      <th></th>\n",
       "      <th>count</th>\n",
       "      <th>mean</th>\n",
       "      <th>std</th>\n",
       "      <th>min</th>\n",
       "      <th>1%</th>\n",
       "      <th>5%</th>\n",
       "      <th>10%</th>\n",
       "      <th>25%</th>\n",
       "      <th>50%</th>\n",
       "      <th>75%</th>\n",
       "      <th>90%</th>\n",
       "      <th>95%</th>\n",
       "      <th>99%</th>\n",
       "      <th>max</th>\n",
       "    </tr>\n",
       "  </thead>\n",
       "  <tbody>\n",
       "    <tr>\n",
       "      <th>session_duration_sec</th>\n",
       "      <td>256827.0</td>\n",
       "      <td>3940.43342</td>\n",
       "      <td>95419.480645</td>\n",
       "      <td>0.0</td>\n",
       "      <td>0.0</td>\n",
       "      <td>0.0</td>\n",
       "      <td>0.0</td>\n",
       "      <td>6.0</td>\n",
       "      <td>53.0</td>\n",
       "      <td>337.0</td>\n",
       "      <td>1431.0</td>\n",
       "      <td>3702.0</td>\n",
       "      <td>11207.48</td>\n",
       "      <td>6144060.0</td>\n",
       "    </tr>\n",
       "  </tbody>\n",
       "</table>\n",
       "</div>"
      ],
      "text/plain": [
       "                         count        mean           std  min   1%   5%  10%  \\\n",
       "session_duration_sec  256827.0  3940.43342  95419.480645  0.0  0.0  0.0  0.0   \n",
       "\n",
       "                      25%   50%    75%     90%     95%       99%        max  \n",
       "session_duration_sec  6.0  53.0  337.0  1431.0  3702.0  11207.48  6144060.0  "
      ]
     },
     "execution_count": 64,
     "metadata": {},
     "output_type": "execute_result"
    }
   ],
   "source": [
    "session_data[['session_duration_sec']].describe(percentiles=[0.01, 0.05, 0.1, 0.25, 0.5, 0.75, 0.9, 0.95, 0.99]).transpose()"
   ]
  },
  {
   "cell_type": "code",
   "execution_count": 69,
   "metadata": {
    "ExecuteTime": {
     "end_time": "2021-06-12T17:17:46.778568Z",
     "start_time": "2021-06-12T17:17:45.370343Z"
    }
   },
   "outputs": [
    {
     "data": {
      "text/plain": [
       "False    0.507205\n",
       "True     1.000000\n",
       "Name: made_purchase, dtype: float64"
      ]
     },
     "execution_count": 69,
     "metadata": {},
     "output_type": "execute_result"
    }
   ],
   "source": [
    "session_data['made_purchase'].value_counts(normalize=True).cumsum()"
   ]
  },
  {
   "cell_type": "code",
   "execution_count": 86,
   "metadata": {
    "ExecuteTime": {
     "end_time": "2021-06-12T18:16:23.440852Z",
     "start_time": "2021-06-12T18:16:21.493889Z"
    }
   },
   "outputs": [
    {
     "data": {
      "text/html": [
       "<div>\n",
       "<style scoped>\n",
       "    .dataframe tbody tr th:only-of-type {\n",
       "        vertical-align: middle;\n",
       "    }\n",
       "\n",
       "    .dataframe tbody tr th {\n",
       "        vertical-align: top;\n",
       "    }\n",
       "\n",
       "    .dataframe thead th {\n",
       "        text-align: right;\n",
       "    }\n",
       "</style>\n",
       "<table border=\"1\" class=\"dataframe\">\n",
       "  <thead>\n",
       "    <tr style=\"text-align: right;\">\n",
       "      <th></th>\n",
       "      <th>session_id</th>\n",
       "      <th>lb_user_id</th>\n",
       "      <th>device</th>\n",
       "      <th>device_category</th>\n",
       "      <th>user_gender</th>\n",
       "      <th>user_state</th>\n",
       "      <th>session_end_time</th>\n",
       "      <th>session_start_time</th>\n",
       "      <th>event_sequence</th>\n",
       "      <th>no_of_events</th>\n",
       "      <th>session_duration_sec</th>\n",
       "      <th>made_purchase</th>\n",
       "      <th>visit_count</th>\n",
       "      <th>bought_on_first_visit</th>\n",
       "    </tr>\n",
       "  </thead>\n",
       "  <tbody>\n",
       "    <tr>\n",
       "      <th>0</th>\n",
       "      <td>_00022uznd</td>\n",
       "      <td>_oqprf6nav</td>\n",
       "      <td>desktop</td>\n",
       "      <td>Windows</td>\n",
       "      <td>Male</td>\n",
       "      <td>New York</td>\n",
       "      <td>2020-11-23 02:59:50</td>\n",
       "      <td>2020-11-23 02:59:03</td>\n",
       "      <td>1-&gt;1-&gt;2</td>\n",
       "      <td>3</td>\n",
       "      <td>47.0</td>\n",
       "      <td>No</td>\n",
       "      <td>10.0</td>\n",
       "      <td>No</td>\n",
       "    </tr>\n",
       "    <tr>\n",
       "      <th>1</th>\n",
       "      <td>_0004g0yuv</td>\n",
       "      <td>_m8i0dtjj6</td>\n",
       "      <td>mobile</td>\n",
       "      <td>iPhone</td>\n",
       "      <td>Female</td>\n",
       "      <td>Maryland</td>\n",
       "      <td>2020-11-11 12:25:05</td>\n",
       "      <td>2020-11-11 12:24:56</td>\n",
       "      <td>2-&gt;6</td>\n",
       "      <td>2</td>\n",
       "      <td>9.0</td>\n",
       "      <td>Yes</td>\n",
       "      <td>1.0</td>\n",
       "      <td>Yes</td>\n",
       "    </tr>\n",
       "    <tr>\n",
       "      <th>2</th>\n",
       "      <td>_000dfqvrj</td>\n",
       "      <td>_kn3otbq1a</td>\n",
       "      <td>mobile</td>\n",
       "      <td>iPhone</td>\n",
       "      <td>Female</td>\n",
       "      <td>Massachusetts</td>\n",
       "      <td>2020-10-04 23:32:01</td>\n",
       "      <td>2020-10-04 23:31:39</td>\n",
       "      <td>2-&gt;1</td>\n",
       "      <td>2</td>\n",
       "      <td>22.0</td>\n",
       "      <td>No</td>\n",
       "      <td>1.0</td>\n",
       "      <td>No</td>\n",
       "    </tr>\n",
       "    <tr>\n",
       "      <th>3</th>\n",
       "      <td>_000frx5lw</td>\n",
       "      <td>_u6ia8ze08</td>\n",
       "      <td>mobile</td>\n",
       "      <td>iPhone</td>\n",
       "      <td>Female</td>\n",
       "      <td>Virginia</td>\n",
       "      <td>2020-09-20 14:35:27</td>\n",
       "      <td>2020-09-20 13:07:20</td>\n",
       "      <td>1-&gt;6-&gt;1-&gt;2-&gt;3-&gt;2-&gt;3-&gt;2</td>\n",
       "      <td>8</td>\n",
       "      <td>5287.0</td>\n",
       "      <td>Yes</td>\n",
       "      <td>1.0</td>\n",
       "      <td>Yes</td>\n",
       "    </tr>\n",
       "    <tr>\n",
       "      <th>4</th>\n",
       "      <td>_000q43w78</td>\n",
       "      <td>_an7s8iurw</td>\n",
       "      <td>mobile</td>\n",
       "      <td>iPhone</td>\n",
       "      <td>Female</td>\n",
       "      <td>New York</td>\n",
       "      <td>2020-09-29 13:22:18</td>\n",
       "      <td>2020-09-29 13:22:13</td>\n",
       "      <td>2-&gt;6</td>\n",
       "      <td>2</td>\n",
       "      <td>5.0</td>\n",
       "      <td>Yes</td>\n",
       "      <td>1.0</td>\n",
       "      <td>Yes</td>\n",
       "    </tr>\n",
       "  </tbody>\n",
       "</table>\n",
       "</div>"
      ],
      "text/plain": [
       "   session_id  lb_user_id   device device_category user_gender     user_state  \\\n",
       "0  _00022uznd  _oqprf6nav  desktop         Windows        Male       New York   \n",
       "1  _0004g0yuv  _m8i0dtjj6   mobile          iPhone      Female       Maryland   \n",
       "2  _000dfqvrj  _kn3otbq1a   mobile          iPhone      Female  Massachusetts   \n",
       "3  _000frx5lw  _u6ia8ze08   mobile          iPhone      Female       Virginia   \n",
       "4  _000q43w78  _an7s8iurw   mobile          iPhone      Female       New York   \n",
       "\n",
       "     session_end_time  session_start_time          event_sequence  \\\n",
       "0 2020-11-23 02:59:50 2020-11-23 02:59:03                 1->1->2   \n",
       "1 2020-11-11 12:25:05 2020-11-11 12:24:56                    2->6   \n",
       "2 2020-10-04 23:32:01 2020-10-04 23:31:39                    2->1   \n",
       "3 2020-09-20 14:35:27 2020-09-20 13:07:20  1->6->1->2->3->2->3->2   \n",
       "4 2020-09-29 13:22:18 2020-09-29 13:22:13                    2->6   \n",
       "\n",
       "   no_of_events  session_duration_sec made_purchase  visit_count  \\\n",
       "0             3                  47.0            No         10.0   \n",
       "1             2                   9.0           Yes          1.0   \n",
       "2             2                  22.0            No          1.0   \n",
       "3             8                5287.0           Yes          1.0   \n",
       "4             2                   5.0           Yes          1.0   \n",
       "\n",
       "  bought_on_first_visit  \n",
       "0                    No  \n",
       "1                   Yes  \n",
       "2                    No  \n",
       "3                   Yes  \n",
       "4                   Yes  "
      ]
     },
     "execution_count": 86,
     "metadata": {},
     "output_type": "execute_result"
    }
   ],
   "source": [
    "session_data.head()"
   ]
  },
  {
   "cell_type": "markdown",
   "metadata": {},
   "source": [
    "## User wise aggregation"
   ]
  },
  {
   "cell_type": "code",
   "execution_count": 125,
   "metadata": {
    "ExecuteTime": {
     "end_time": "2021-06-12T19:26:01.222916Z",
     "start_time": "2021-06-12T19:21:06.745841Z"
    }
   },
   "outputs": [],
   "source": [
    "user_level_aggregation = {\n",
    "    'session_duration_sec': 'mean', 'no_of_events' : 'mean', 'session_duration_sec' : 'mean', 'visit_count': 'count',\n",
    "    'made_purchase' : lambda x: (x==\"Yes\").sum(), 'bought_on_first_visit': lambda x: (x==\"Yes\").sum(),\n",
    "    'device': lambda x: set(x), 'device_category': lambda x: set(x), 'user_state': lambda x: set(x)\n",
    "}\n",
    "\n",
    "user_data = session_data.groupby(['lb_user_id', 'user_gender']).agg(user_level_aggregation)"
   ]
  },
  {
   "cell_type": "code",
   "execution_count": 153,
   "metadata": {
    "ExecuteTime": {
     "end_time": "2021-06-12T19:38:26.953929Z",
     "start_time": "2021-06-12T19:38:26.547252Z"
    }
   },
   "outputs": [],
   "source": [
    "user_data.reset_index(inplace=True)\n",
    "user_data = user_data.iloc[:, -10:]\n",
    "user_data.columns = ['lb_user_id', 'user_gender', 'avg_session_duration', 'avg_no_of_events', 'times_visited', \n",
    "                     'times_purchased', 'bought_on_first_visit', 'devices_used', 'device_categories_used', 'states_used_from']"
   ]
  },
  {
   "cell_type": "code",
   "execution_count": 155,
   "metadata": {
    "ExecuteTime": {
     "end_time": "2021-06-12T19:38:57.739041Z",
     "start_time": "2021-06-12T19:38:57.317136Z"
    }
   },
   "outputs": [
    {
     "data": {
      "text/plain": [
       "1    116872\n",
       "0     31945\n",
       "Name: bought_on_first_visit, dtype: int64"
      ]
     },
     "execution_count": 155,
     "metadata": {},
     "output_type": "execute_result"
    }
   ],
   "source": [
    "user_data['bought_on_first_visit'].value_counts()"
   ]
  },
  {
   "cell_type": "code",
   "execution_count": 115,
   "metadata": {
    "ExecuteTime": {
     "end_time": "2021-06-12T19:14:57.729930Z",
     "start_time": "2021-06-12T19:14:55.780167Z"
    }
   },
   "outputs": [
    {
     "data": {
      "text/html": [
       "<div>\n",
       "<style scoped>\n",
       "    .dataframe tbody tr th:only-of-type {\n",
       "        vertical-align: middle;\n",
       "    }\n",
       "\n",
       "    .dataframe tbody tr th {\n",
       "        vertical-align: top;\n",
       "    }\n",
       "\n",
       "    .dataframe thead th {\n",
       "        text-align: right;\n",
       "    }\n",
       "</style>\n",
       "<table border=\"1\" class=\"dataframe\">\n",
       "  <thead>\n",
       "    <tr style=\"text-align: right;\">\n",
       "      <th></th>\n",
       "      <th>session_id</th>\n",
       "      <th>lb_user_id</th>\n",
       "      <th>device</th>\n",
       "      <th>device_category</th>\n",
       "      <th>user_gender</th>\n",
       "      <th>user_state</th>\n",
       "      <th>session_end_time</th>\n",
       "      <th>session_start_time</th>\n",
       "      <th>event_sequence</th>\n",
       "      <th>no_of_events</th>\n",
       "      <th>session_duration_sec</th>\n",
       "      <th>made_purchase</th>\n",
       "      <th>visit_count</th>\n",
       "      <th>bought_on_first_visit</th>\n",
       "    </tr>\n",
       "  </thead>\n",
       "  <tbody>\n",
       "    <tr>\n",
       "      <th>185838</th>\n",
       "      <td>_q2xaqbg6t</td>\n",
       "      <td>_000fag02q</td>\n",
       "      <td>mobile</td>\n",
       "      <td>iPhone</td>\n",
       "      <td>Female</td>\n",
       "      <td>Florida</td>\n",
       "      <td>2020-11-29 16:41:35</td>\n",
       "      <td>2020-11-29 16:41:27</td>\n",
       "      <td>2-&gt;6</td>\n",
       "      <td>2</td>\n",
       "      <td>8.0</td>\n",
       "      <td>Yes</td>\n",
       "      <td>1.0</td>\n",
       "      <td>Yes</td>\n",
       "    </tr>\n",
       "  </tbody>\n",
       "</table>\n",
       "</div>"
      ],
      "text/plain": [
       "        session_id  lb_user_id  device device_category user_gender user_state  \\\n",
       "185838  _q2xaqbg6t  _000fag02q  mobile          iPhone      Female    Florida   \n",
       "\n",
       "          session_end_time  session_start_time event_sequence  no_of_events  \\\n",
       "185838 2020-11-29 16:41:35 2020-11-29 16:41:27           2->6             2   \n",
       "\n",
       "        session_duration_sec made_purchase  visit_count bought_on_first_visit  \n",
       "185838                   8.0           Yes          1.0                   Yes  "
      ]
     },
     "execution_count": 115,
     "metadata": {},
     "output_type": "execute_result"
    }
   ],
   "source": [
    "session_data[session_data['lb_user_id']=='_000fag02q']"
   ]
  },
  {
   "cell_type": "code",
   "execution_count": 114,
   "metadata": {
    "ExecuteTime": {
     "end_time": "2021-06-12T19:14:17.693475Z",
     "start_time": "2021-06-12T19:14:15.663040Z"
    }
   },
   "outputs": [
    {
     "data": {
      "text/html": [
       "<div>\n",
       "<style scoped>\n",
       "    .dataframe tbody tr th:only-of-type {\n",
       "        vertical-align: middle;\n",
       "    }\n",
       "\n",
       "    .dataframe tbody tr th {\n",
       "        vertical-align: top;\n",
       "    }\n",
       "\n",
       "    .dataframe thead th {\n",
       "        text-align: right;\n",
       "    }\n",
       "</style>\n",
       "<table border=\"1\" class=\"dataframe\">\n",
       "  <thead>\n",
       "    <tr style=\"text-align: right;\">\n",
       "      <th></th>\n",
       "      <th>session_id</th>\n",
       "      <th>lb_user_id</th>\n",
       "      <th>device</th>\n",
       "      <th>device_category</th>\n",
       "      <th>user_gender</th>\n",
       "      <th>user_state</th>\n",
       "      <th>session_end_time</th>\n",
       "      <th>session_start_time</th>\n",
       "      <th>event_sequence</th>\n",
       "      <th>no_of_events</th>\n",
       "      <th>session_duration_sec</th>\n",
       "      <th>made_purchase</th>\n",
       "      <th>visit_count</th>\n",
       "      <th>bought_on_first_visit</th>\n",
       "    </tr>\n",
       "  </thead>\n",
       "  <tbody>\n",
       "    <tr>\n",
       "      <th>17793</th>\n",
       "      <td>_2icjq8j8q</td>\n",
       "      <td>_000yveacz</td>\n",
       "      <td>mobile</td>\n",
       "      <td>iPhone</td>\n",
       "      <td>Female</td>\n",
       "      <td>California</td>\n",
       "      <td>2020-11-14 09:50:03</td>\n",
       "      <td>2020-11-14 09:00:55</td>\n",
       "      <td>1-&gt;2-&gt;6-&gt;1-&gt;2-&gt;1-&gt;1-&gt;2-&gt;1-&gt;2-&gt;3-&gt;1-&gt;1-&gt;2-&gt;1-&gt;1...</td>\n",
       "      <td>84</td>\n",
       "      <td>2948.0</td>\n",
       "      <td>Yes</td>\n",
       "      <td>1.0</td>\n",
       "      <td>Yes</td>\n",
       "    </tr>\n",
       "    <tr>\n",
       "      <th>147170</th>\n",
       "      <td>_kneef49ms</td>\n",
       "      <td>_000yveacz</td>\n",
       "      <td>mobile</td>\n",
       "      <td>iPhone</td>\n",
       "      <td>Female</td>\n",
       "      <td>California</td>\n",
       "      <td>2020-11-15 07:22:12</td>\n",
       "      <td>2020-11-15 07:22:12</td>\n",
       "      <td>1</td>\n",
       "      <td>1</td>\n",
       "      <td>0.0</td>\n",
       "      <td>No</td>\n",
       "      <td>2.0</td>\n",
       "      <td>No</td>\n",
       "    </tr>\n",
       "  </tbody>\n",
       "</table>\n",
       "</div>"
      ],
      "text/plain": [
       "        session_id  lb_user_id  device device_category user_gender  \\\n",
       "17793   _2icjq8j8q  _000yveacz  mobile          iPhone      Female   \n",
       "147170  _kneef49ms  _000yveacz  mobile          iPhone      Female   \n",
       "\n",
       "        user_state    session_end_time  session_start_time  \\\n",
       "17793   California 2020-11-14 09:50:03 2020-11-14 09:00:55   \n",
       "147170  California 2020-11-15 07:22:12 2020-11-15 07:22:12   \n",
       "\n",
       "                                           event_sequence  no_of_events  \\\n",
       "17793   1->2->6->1->2->1->1->2->1->2->3->1->1->2->1->1...            84   \n",
       "147170                                                  1             1   \n",
       "\n",
       "        session_duration_sec made_purchase  visit_count bought_on_first_visit  \n",
       "17793                 2948.0           Yes          1.0                   Yes  \n",
       "147170                   0.0            No          2.0                    No  "
      ]
     },
     "execution_count": 114,
     "metadata": {},
     "output_type": "execute_result"
    }
   ],
   "source": [
    "session_data[session_data['lb_user_id']=='_000yveacz']"
   ]
  },
  {
   "cell_type": "markdown",
   "metadata": {},
   "source": [
    "## Session wise aggregation"
   ]
  },
  {
   "cell_type": "code",
   "execution_count": null,
   "metadata": {},
   "outputs": [],
   "source": []
  },
  {
   "cell_type": "code",
   "execution_count": null,
   "metadata": {},
   "outputs": [],
   "source": []
  },
  {
   "cell_type": "code",
   "execution_count": null,
   "metadata": {},
   "outputs": [],
   "source": []
  }
 ],
 "metadata": {
  "kernelspec": {
   "display_name": "Python 3",
   "language": "python",
   "name": "python3"
  },
  "language_info": {
   "codemirror_mode": {
    "name": "ipython",
    "version": 3
   },
   "file_extension": ".py",
   "mimetype": "text/x-python",
   "name": "python",
   "nbconvert_exporter": "python",
   "pygments_lexer": "ipython3",
   "version": "3.7.4"
  }
 },
 "nbformat": 4,
 "nbformat_minor": 5
}
